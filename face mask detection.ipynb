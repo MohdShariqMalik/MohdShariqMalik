{
  "nbformat": 4,
  "nbformat_minor": 0,
  "metadata": {
    "colab": {
      "name": "Untitled6.ipynb",
      "provenance": [],
      "mount_file_id": "1dsdfoQCswFrCeYf4NvgwIJ_-rhxB1643",
      "authorship_tag": "ABX9TyPPJt0pvI2OZL9Q7FEe2sgZ",
      "include_colab_link": true
    },
    "kernelspec": {
      "display_name": "Python 3",
      "name": "python3"
    },
    "language_info": {
      "name": "python"
    }
  },
  "cells": [
    {
      "cell_type": "markdown",
      "metadata": {
        "id": "view-in-github",
        "colab_type": "text"
      },
      "source": [
        "<a href=\"https://colab.research.google.com/github/MohdShariqMalik/MohdShariqMalik/blob/main/face%20mask%20detection.ipynb\" target=\"_parent\"><img src=\"https://colab.research.google.com/assets/colab-badge.svg\" alt=\"Open In Colab\"/></a>"
      ]
    },
    {
      "cell_type": "code",
      "metadata": {
        "id": "y9g5Q5OOyKiv"
      },
      "source": [
        "from keras.models import Sequential\n",
        "from keras.layers import Convolution2D\n",
        "from keras.layers import MaxPooling2D\n",
        "from keras.layers import Flatten\n",
        "from keras.layers import Dense"
      ],
      "execution_count": 31,
      "outputs": []
    },
    {
      "cell_type": "code",
      "metadata": {
        "id": "-DKhsnochf9w",
        "colab": {
          "base_uri": "https://localhost:8080/"
        },
        "outputId": "c45166eb-e790-49aa-a29a-07e7b345f9ca"
      },
      "source": [
        "from google.colab import drive\n",
        "drive.mount('/content/drive')"
      ],
      "execution_count": 32,
      "outputs": [
        {
          "output_type": "stream",
          "text": [
            "Drive already mounted at /content/drive; to attempt to forcibly remount, call drive.mount(\"/content/drive\", force_remount=True).\n"
          ],
          "name": "stdout"
        }
      ]
    },
    {
      "cell_type": "code",
      "metadata": {
        "id": "KnRt23mTqzf-"
      },
      "source": [
        "classifier = Sequential()"
      ],
      "execution_count": 33,
      "outputs": []
    },
    {
      "cell_type": "code",
      "metadata": {
        "id": "UgUttnH1rLcN"
      },
      "source": [
        "classifier.add(Convolution2D(64, 3, 3, input_shape = (256, 256, 3),activation = 'relu' ))\n",
        "classifier.add(MaxPooling2D(pool_size = (2,2)))"
      ],
      "execution_count": 34,
      "outputs": []
    },
    {
      "cell_type": "code",
      "metadata": {
        "id": "etc78a-TrpUr"
      },
      "source": [
        "classifier.add(Flatten())\n",
        "classifier.add(Dense(units = 256, activation = 'relu'))\n",
        "classifier.add(Dense(units = 128, activation = 'relu'))\n",
        "classifier.add(Dense(units = 1, activation = 'sigmoid'))\n",
        "classifier.compile(optimizer = 'adam', loss = 'binary_crossentropy', metrics = ['accuracy'])"
      ],
      "execution_count": 35,
      "outputs": []
    },
    {
      "cell_type": "code",
      "metadata": {
        "id": "2VPX2sMDsJbK"
      },
      "source": [
        "from keras.preprocessing.image import ImageDataGenerator\n",
        "train_datagen = ImageDataGenerator(rescale = 1./255, shear_range = 0.2, zoom_range = 0.2, horizontal_flip = True )\n",
        "test_datagen = ImageDataGenerator(rescale = 1./255)"
      ],
      "execution_count": 36,
      "outputs": []
    },
    {
      "cell_type": "code",
      "metadata": {
        "id": "9S-H-YWOs1s6",
        "colab": {
          "base_uri": "https://localhost:8080/"
        },
        "outputId": "fa1b896d-07e6-44c5-b38d-b9347f4609a4"
      },
      "source": [
        "training_set = train_datagen.flow_from_directory('/content/drive/MyDrive/my projects/correct or incorrect face mask detection/dataset/training_set',target_size=(256, 256), batch_size = 32, class_mode='binary')\n",
        "test_set = test_datagen.flow_from_directory('/content/drive/MyDrive/my projects/correct or incorrect face mask detection/dataset/test_set', target_size = (256, 256), batch_size = 32, class_mode = 'binary')"
      ],
      "execution_count": 37,
      "outputs": [
        {
          "output_type": "stream",
          "text": [
            "Found 5706 images belonging to 2 classes.\n",
            "Found 1934 images belonging to 2 classes.\n"
          ],
          "name": "stdout"
        }
      ]
    },
    {
      "cell_type": "code",
      "metadata": {
        "colab": {
          "base_uri": "https://localhost:8080/"
        },
        "id": "LJUR2SQ2Xfgw",
        "outputId": "a404890d-b92c-46c8-a3c4-c67483627d91"
      },
      "source": [
        "classifier.fit_generator(training_set, steps_per_epoch = 5706 , epochs = 1, validation_data = test_set, validation_steps = 1934)"
      ],
      "execution_count": 38,
      "outputs": [
        {
          "output_type": "stream",
          "text": [
            "/usr/local/lib/python3.7/dist-packages/keras/engine/training.py:1915: UserWarning: `Model.fit_generator` is deprecated and will be removed in a future version. Please use `Model.fit`, which supports generators.\n",
            "  warnings.warn('`Model.fit_generator` is deprecated and '\n"
          ],
          "name": "stderr"
        },
        {
          "output_type": "stream",
          "text": [
            " 179/5706 [..............................] - ETA: 2:11:51 - loss: 0.9601 - accuracy: 0.7740WARNING:tensorflow:Your input ran out of data; interrupting training. Make sure that your dataset or generator can generate at least `steps_per_epoch * epochs` batches (in this case, 5706 batches). You may need to use the repeat() function when building your dataset.\n",
            "WARNING:tensorflow:Your input ran out of data; interrupting training. Make sure that your dataset or generator can generate at least `steps_per_epoch * epochs` batches (in this case, 1934 batches). You may need to use the repeat() function when building your dataset.\n",
            "5706/5706 [==============================] - 341s 59ms/step - loss: 0.3985 - accuracy: 0.8892 - val_loss: 0.0551 - val_accuracy: 0.9783\n"
          ],
          "name": "stdout"
        },
        {
          "output_type": "execute_result",
          "data": {
            "text/plain": [
              "<keras.callbacks.History at 0x7f91a75966d0>"
            ]
          },
          "metadata": {
            "tags": []
          },
          "execution_count": 38
        }
      ]
    },
    {
      "cell_type": "code",
      "metadata": {
        "id": "CWxqY7cf1-GL"
      },
      "source": [
        " "
      ],
      "execution_count": null,
      "outputs": []
    }
  ]
}